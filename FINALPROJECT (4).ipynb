{
 "cells": [
  {
   "cell_type": "code",
   "execution_count": 1,
   "id": "a05f1ec6",
   "metadata": {},
   "outputs": [],
   "source": [
    "import pandas as pd\n",
    "import numpy as np\n",
    "import seaborn as sns\n",
    "import matplotlib.pyplot as plt\n",
    "import math"
   ]
  },
  {
   "cell_type": "code",
   "execution_count": 2,
   "id": "9dba00fc",
   "metadata": {
    "scrolled": true
   },
   "outputs": [
    {
     "data": {
      "text/html": [
       "<div>\n",
       "<style scoped>\n",
       "    .dataframe tbody tr th:only-of-type {\n",
       "        vertical-align: middle;\n",
       "    }\n",
       "\n",
       "    .dataframe tbody tr th {\n",
       "        vertical-align: top;\n",
       "    }\n",
       "\n",
       "    .dataframe thead th {\n",
       "        text-align: right;\n",
       "    }\n",
       "</style>\n",
       "<table border=\"1\" class=\"dataframe\">\n",
       "  <thead>\n",
       "    <tr style=\"text-align: right;\">\n",
       "      <th></th>\n",
       "      <th>Churn</th>\n",
       "      <th>AccountWeeks</th>\n",
       "      <th>ContractRenewal</th>\n",
       "      <th>DataPlan</th>\n",
       "      <th>DataUsage</th>\n",
       "      <th>CustServCalls</th>\n",
       "      <th>DayMins</th>\n",
       "      <th>DayCalls</th>\n",
       "      <th>MonthlyCharge</th>\n",
       "      <th>OverageFee</th>\n",
       "      <th>RoamMins</th>\n",
       "    </tr>\n",
       "  </thead>\n",
       "  <tbody>\n",
       "    <tr>\n",
       "      <th>0</th>\n",
       "      <td>0</td>\n",
       "      <td>128</td>\n",
       "      <td>1</td>\n",
       "      <td>1</td>\n",
       "      <td>2.70</td>\n",
       "      <td>1</td>\n",
       "      <td>265.1</td>\n",
       "      <td>110</td>\n",
       "      <td>89.0</td>\n",
       "      <td>9.87</td>\n",
       "      <td>10.0</td>\n",
       "    </tr>\n",
       "    <tr>\n",
       "      <th>1</th>\n",
       "      <td>0</td>\n",
       "      <td>107</td>\n",
       "      <td>1</td>\n",
       "      <td>1</td>\n",
       "      <td>3.70</td>\n",
       "      <td>1</td>\n",
       "      <td>161.6</td>\n",
       "      <td>123</td>\n",
       "      <td>82.0</td>\n",
       "      <td>9.78</td>\n",
       "      <td>13.7</td>\n",
       "    </tr>\n",
       "    <tr>\n",
       "      <th>2</th>\n",
       "      <td>0</td>\n",
       "      <td>137</td>\n",
       "      <td>1</td>\n",
       "      <td>0</td>\n",
       "      <td>0.00</td>\n",
       "      <td>0</td>\n",
       "      <td>243.4</td>\n",
       "      <td>114</td>\n",
       "      <td>52.0</td>\n",
       "      <td>6.06</td>\n",
       "      <td>12.2</td>\n",
       "    </tr>\n",
       "    <tr>\n",
       "      <th>3</th>\n",
       "      <td>0</td>\n",
       "      <td>84</td>\n",
       "      <td>0</td>\n",
       "      <td>0</td>\n",
       "      <td>0.00</td>\n",
       "      <td>2</td>\n",
       "      <td>299.4</td>\n",
       "      <td>71</td>\n",
       "      <td>57.0</td>\n",
       "      <td>3.10</td>\n",
       "      <td>6.6</td>\n",
       "    </tr>\n",
       "    <tr>\n",
       "      <th>4</th>\n",
       "      <td>0</td>\n",
       "      <td>75</td>\n",
       "      <td>0</td>\n",
       "      <td>0</td>\n",
       "      <td>0.00</td>\n",
       "      <td>3</td>\n",
       "      <td>166.7</td>\n",
       "      <td>113</td>\n",
       "      <td>41.0</td>\n",
       "      <td>7.42</td>\n",
       "      <td>10.1</td>\n",
       "    </tr>\n",
       "    <tr>\n",
       "      <th>...</th>\n",
       "      <td>...</td>\n",
       "      <td>...</td>\n",
       "      <td>...</td>\n",
       "      <td>...</td>\n",
       "      <td>...</td>\n",
       "      <td>...</td>\n",
       "      <td>...</td>\n",
       "      <td>...</td>\n",
       "      <td>...</td>\n",
       "      <td>...</td>\n",
       "      <td>...</td>\n",
       "    </tr>\n",
       "    <tr>\n",
       "      <th>3328</th>\n",
       "      <td>0</td>\n",
       "      <td>192</td>\n",
       "      <td>1</td>\n",
       "      <td>1</td>\n",
       "      <td>2.67</td>\n",
       "      <td>2</td>\n",
       "      <td>156.2</td>\n",
       "      <td>77</td>\n",
       "      <td>71.7</td>\n",
       "      <td>10.78</td>\n",
       "      <td>9.9</td>\n",
       "    </tr>\n",
       "    <tr>\n",
       "      <th>3329</th>\n",
       "      <td>0</td>\n",
       "      <td>68</td>\n",
       "      <td>1</td>\n",
       "      <td>0</td>\n",
       "      <td>0.34</td>\n",
       "      <td>3</td>\n",
       "      <td>231.1</td>\n",
       "      <td>57</td>\n",
       "      <td>56.4</td>\n",
       "      <td>7.67</td>\n",
       "      <td>9.6</td>\n",
       "    </tr>\n",
       "    <tr>\n",
       "      <th>3330</th>\n",
       "      <td>0</td>\n",
       "      <td>28</td>\n",
       "      <td>1</td>\n",
       "      <td>0</td>\n",
       "      <td>0.00</td>\n",
       "      <td>2</td>\n",
       "      <td>180.8</td>\n",
       "      <td>109</td>\n",
       "      <td>56.0</td>\n",
       "      <td>14.44</td>\n",
       "      <td>14.1</td>\n",
       "    </tr>\n",
       "    <tr>\n",
       "      <th>3331</th>\n",
       "      <td>0</td>\n",
       "      <td>184</td>\n",
       "      <td>0</td>\n",
       "      <td>0</td>\n",
       "      <td>0.00</td>\n",
       "      <td>2</td>\n",
       "      <td>213.8</td>\n",
       "      <td>105</td>\n",
       "      <td>50.0</td>\n",
       "      <td>7.98</td>\n",
       "      <td>5.0</td>\n",
       "    </tr>\n",
       "    <tr>\n",
       "      <th>3332</th>\n",
       "      <td>0</td>\n",
       "      <td>74</td>\n",
       "      <td>1</td>\n",
       "      <td>1</td>\n",
       "      <td>3.70</td>\n",
       "      <td>0</td>\n",
       "      <td>234.4</td>\n",
       "      <td>113</td>\n",
       "      <td>100.0</td>\n",
       "      <td>13.30</td>\n",
       "      <td>13.7</td>\n",
       "    </tr>\n",
       "  </tbody>\n",
       "</table>\n",
       "<p>3333 rows × 11 columns</p>\n",
       "</div>"
      ],
      "text/plain": [
       "      Churn  AccountWeeks  ContractRenewal  DataPlan  DataUsage  \\\n",
       "0         0           128                1         1       2.70   \n",
       "1         0           107                1         1       3.70   \n",
       "2         0           137                1         0       0.00   \n",
       "3         0            84                0         0       0.00   \n",
       "4         0            75                0         0       0.00   \n",
       "...     ...           ...              ...       ...        ...   \n",
       "3328      0           192                1         1       2.67   \n",
       "3329      0            68                1         0       0.34   \n",
       "3330      0            28                1         0       0.00   \n",
       "3331      0           184                0         0       0.00   \n",
       "3332      0            74                1         1       3.70   \n",
       "\n",
       "      CustServCalls  DayMins  DayCalls  MonthlyCharge  OverageFee  RoamMins  \n",
       "0                 1    265.1       110           89.0        9.87      10.0  \n",
       "1                 1    161.6       123           82.0        9.78      13.7  \n",
       "2                 0    243.4       114           52.0        6.06      12.2  \n",
       "3                 2    299.4        71           57.0        3.10       6.6  \n",
       "4                 3    166.7       113           41.0        7.42      10.1  \n",
       "...             ...      ...       ...            ...         ...       ...  \n",
       "3328              2    156.2        77           71.7       10.78       9.9  \n",
       "3329              3    231.1        57           56.4        7.67       9.6  \n",
       "3330              2    180.8       109           56.0       14.44      14.1  \n",
       "3331              2    213.8       105           50.0        7.98       5.0  \n",
       "3332              0    234.4       113          100.0       13.30      13.7  \n",
       "\n",
       "[3333 rows x 11 columns]"
      ]
     },
     "execution_count": 2,
     "metadata": {},
     "output_type": "execute_result"
    }
   ],
   "source": [
    "df = pd.read_csv('telecom_churn.csv')\n",
    "df"
   ]
  },
  {
   "cell_type": "code",
   "execution_count": 3,
   "id": "957fedd8",
   "metadata": {
    "scrolled": false
   },
   "outputs": [
    {
     "name": "stdout",
     "output_type": "stream",
     "text": [
      "<class 'pandas.core.frame.DataFrame'>\n",
      "RangeIndex: 3333 entries, 0 to 3332\n",
      "Data columns (total 11 columns):\n",
      " #   Column           Non-Null Count  Dtype  \n",
      "---  ------           --------------  -----  \n",
      " 0   Churn            3333 non-null   int64  \n",
      " 1   AccountWeeks     3333 non-null   int64  \n",
      " 2   ContractRenewal  3333 non-null   int64  \n",
      " 3   DataPlan         3333 non-null   int64  \n",
      " 4   DataUsage        3333 non-null   float64\n",
      " 5   CustServCalls    3333 non-null   int64  \n",
      " 6   DayMins          3333 non-null   float64\n",
      " 7   DayCalls         3333 non-null   int64  \n",
      " 8   MonthlyCharge    3333 non-null   float64\n",
      " 9   OverageFee       3333 non-null   float64\n",
      " 10  RoamMins         3333 non-null   float64\n",
      "dtypes: float64(5), int64(6)\n",
      "memory usage: 286.6 KB\n"
     ]
    }
   ],
   "source": [
    "df.info()"
   ]
  },
  {
   "cell_type": "code",
   "execution_count": 4,
   "id": "98978e1b",
   "metadata": {},
   "outputs": [],
   "source": [
    "#Churn           : berlangganan, 0 (pelanggan yang melanjutkan layanan), 1 (pelanggan yang tidak melanjutkan layanan\n",
    "#AccountWeeks    : jumlah akun pelanggan yang aktif dalam mingguan\n",
    "#ContractRenewal : 0 (tidak memperbaharui kontrak), 1 (memperbaharui kontrak)\n",
    "#DataPlan        : 0 (pelanggan tidak memiliki paket data), 1 (pelanggan memiliki paket data)\n",
    "#DataUsage       : penggunaan data bulanan gigabytes\n",
    "#CustServCalls   : jumlah panggilan ke CS\n",
    "#DayMins         : Rata-rata menit penggunaan harian per bulan\n",
    "#DayCalls        : Jumlah rata-rata panggilan harian\n",
    "#MonthlyCharge   : Rata-rata pembayaran perbulan\n",
    "#Overage free    : Biaya tambahan terbesar dalam 12 bulan terakhir"
   ]
  },
  {
   "cell_type": "markdown",
   "id": "8fdb5905",
   "metadata": {},
   "source": [
    "### EDA"
   ]
  },
  {
   "cell_type": "code",
   "execution_count": 5,
   "id": "707e7d0c",
   "metadata": {},
   "outputs": [],
   "source": [
    "#Korelasi antar kolom"
   ]
  },
  {
   "cell_type": "code",
   "execution_count": 6,
   "id": "526e4aa1",
   "metadata": {
    "scrolled": true
   },
   "outputs": [
    {
     "data": {
      "text/html": [
       "<div>\n",
       "<style scoped>\n",
       "    .dataframe tbody tr th:only-of-type {\n",
       "        vertical-align: middle;\n",
       "    }\n",
       "\n",
       "    .dataframe tbody tr th {\n",
       "        vertical-align: top;\n",
       "    }\n",
       "\n",
       "    .dataframe thead th {\n",
       "        text-align: right;\n",
       "    }\n",
       "</style>\n",
       "<table border=\"1\" class=\"dataframe\">\n",
       "  <thead>\n",
       "    <tr style=\"text-align: right;\">\n",
       "      <th></th>\n",
       "      <th>Churn</th>\n",
       "      <th>AccountWeeks</th>\n",
       "      <th>ContractRenewal</th>\n",
       "      <th>DataPlan</th>\n",
       "      <th>DataUsage</th>\n",
       "      <th>CustServCalls</th>\n",
       "      <th>DayMins</th>\n",
       "      <th>DayCalls</th>\n",
       "      <th>MonthlyCharge</th>\n",
       "      <th>OverageFee</th>\n",
       "      <th>RoamMins</th>\n",
       "    </tr>\n",
       "  </thead>\n",
       "  <tbody>\n",
       "    <tr>\n",
       "      <th>Churn</th>\n",
       "      <td>1.000000</td>\n",
       "      <td>0.015583</td>\n",
       "      <td>-0.259852</td>\n",
       "      <td>-0.102148</td>\n",
       "      <td>-0.102080</td>\n",
       "      <td>0.136657</td>\n",
       "      <td>0.170677</td>\n",
       "      <td>0.026311</td>\n",
       "      <td>0.094655</td>\n",
       "      <td>0.088582</td>\n",
       "      <td>0.060850</td>\n",
       "    </tr>\n",
       "    <tr>\n",
       "      <th>AccountWeeks</th>\n",
       "      <td>0.015583</td>\n",
       "      <td>1.000000</td>\n",
       "      <td>-0.029538</td>\n",
       "      <td>0.008741</td>\n",
       "      <td>0.016805</td>\n",
       "      <td>-0.005942</td>\n",
       "      <td>0.017884</td>\n",
       "      <td>0.032690</td>\n",
       "      <td>0.011784</td>\n",
       "      <td>-0.007956</td>\n",
       "      <td>0.014761</td>\n",
       "    </tr>\n",
       "    <tr>\n",
       "      <th>ContractRenewal</th>\n",
       "      <td>-0.259852</td>\n",
       "      <td>-0.029538</td>\n",
       "      <td>1.000000</td>\n",
       "      <td>-0.006006</td>\n",
       "      <td>-0.010479</td>\n",
       "      <td>0.030328</td>\n",
       "      <td>-0.049604</td>\n",
       "      <td>-0.013043</td>\n",
       "      <td>-0.044644</td>\n",
       "      <td>-0.010400</td>\n",
       "      <td>-0.043836</td>\n",
       "    </tr>\n",
       "    <tr>\n",
       "      <th>DataPlan</th>\n",
       "      <td>-0.102148</td>\n",
       "      <td>0.008741</td>\n",
       "      <td>-0.006006</td>\n",
       "      <td>1.000000</td>\n",
       "      <td>0.841275</td>\n",
       "      <td>-0.022156</td>\n",
       "      <td>0.002989</td>\n",
       "      <td>-0.012653</td>\n",
       "      <td>0.695608</td>\n",
       "      <td>0.022762</td>\n",
       "      <td>-0.004484</td>\n",
       "    </tr>\n",
       "    <tr>\n",
       "      <th>DataUsage</th>\n",
       "      <td>-0.102080</td>\n",
       "      <td>0.016805</td>\n",
       "      <td>-0.010479</td>\n",
       "      <td>0.841275</td>\n",
       "      <td>1.000000</td>\n",
       "      <td>-0.017852</td>\n",
       "      <td>-0.004309</td>\n",
       "      <td>-0.019481</td>\n",
       "      <td>0.646449</td>\n",
       "      <td>0.011492</td>\n",
       "      <td>0.076597</td>\n",
       "    </tr>\n",
       "    <tr>\n",
       "      <th>CustServCalls</th>\n",
       "      <td>0.136657</td>\n",
       "      <td>-0.005942</td>\n",
       "      <td>0.030328</td>\n",
       "      <td>-0.022156</td>\n",
       "      <td>-0.017852</td>\n",
       "      <td>1.000000</td>\n",
       "      <td>-0.015032</td>\n",
       "      <td>-0.020957</td>\n",
       "      <td>-0.025401</td>\n",
       "      <td>-0.017801</td>\n",
       "      <td>-0.017374</td>\n",
       "    </tr>\n",
       "    <tr>\n",
       "      <th>DayMins</th>\n",
       "      <td>0.170677</td>\n",
       "      <td>0.017884</td>\n",
       "      <td>-0.049604</td>\n",
       "      <td>0.002989</td>\n",
       "      <td>-0.004309</td>\n",
       "      <td>-0.015032</td>\n",
       "      <td>1.000000</td>\n",
       "      <td>0.009391</td>\n",
       "      <td>0.598887</td>\n",
       "      <td>0.006401</td>\n",
       "      <td>-0.016110</td>\n",
       "    </tr>\n",
       "    <tr>\n",
       "      <th>DayCalls</th>\n",
       "      <td>0.026311</td>\n",
       "      <td>0.032690</td>\n",
       "      <td>-0.013043</td>\n",
       "      <td>-0.012653</td>\n",
       "      <td>-0.019481</td>\n",
       "      <td>-0.020957</td>\n",
       "      <td>0.009391</td>\n",
       "      <td>1.000000</td>\n",
       "      <td>-0.009012</td>\n",
       "      <td>-0.014064</td>\n",
       "      <td>0.015139</td>\n",
       "    </tr>\n",
       "    <tr>\n",
       "      <th>MonthlyCharge</th>\n",
       "      <td>0.094655</td>\n",
       "      <td>0.011784</td>\n",
       "      <td>-0.044644</td>\n",
       "      <td>0.695608</td>\n",
       "      <td>0.646449</td>\n",
       "      <td>-0.025401</td>\n",
       "      <td>0.598887</td>\n",
       "      <td>-0.009012</td>\n",
       "      <td>1.000000</td>\n",
       "      <td>0.289230</td>\n",
       "      <td>0.055563</td>\n",
       "    </tr>\n",
       "    <tr>\n",
       "      <th>OverageFee</th>\n",
       "      <td>0.088582</td>\n",
       "      <td>-0.007956</td>\n",
       "      <td>-0.010400</td>\n",
       "      <td>0.022762</td>\n",
       "      <td>0.011492</td>\n",
       "      <td>-0.017801</td>\n",
       "      <td>0.006401</td>\n",
       "      <td>-0.014064</td>\n",
       "      <td>0.289230</td>\n",
       "      <td>1.000000</td>\n",
       "      <td>-0.003210</td>\n",
       "    </tr>\n",
       "    <tr>\n",
       "      <th>RoamMins</th>\n",
       "      <td>0.060850</td>\n",
       "      <td>0.014761</td>\n",
       "      <td>-0.043836</td>\n",
       "      <td>-0.004484</td>\n",
       "      <td>0.076597</td>\n",
       "      <td>-0.017374</td>\n",
       "      <td>-0.016110</td>\n",
       "      <td>0.015139</td>\n",
       "      <td>0.055563</td>\n",
       "      <td>-0.003210</td>\n",
       "      <td>1.000000</td>\n",
       "    </tr>\n",
       "  </tbody>\n",
       "</table>\n",
       "</div>"
      ],
      "text/plain": [
       "                    Churn  AccountWeeks  ContractRenewal  DataPlan  DataUsage  \\\n",
       "Churn            1.000000      0.015583        -0.259852 -0.102148  -0.102080   \n",
       "AccountWeeks     0.015583      1.000000        -0.029538  0.008741   0.016805   \n",
       "ContractRenewal -0.259852     -0.029538         1.000000 -0.006006  -0.010479   \n",
       "DataPlan        -0.102148      0.008741        -0.006006  1.000000   0.841275   \n",
       "DataUsage       -0.102080      0.016805        -0.010479  0.841275   1.000000   \n",
       "CustServCalls    0.136657     -0.005942         0.030328 -0.022156  -0.017852   \n",
       "DayMins          0.170677      0.017884        -0.049604  0.002989  -0.004309   \n",
       "DayCalls         0.026311      0.032690        -0.013043 -0.012653  -0.019481   \n",
       "MonthlyCharge    0.094655      0.011784        -0.044644  0.695608   0.646449   \n",
       "OverageFee       0.088582     -0.007956        -0.010400  0.022762   0.011492   \n",
       "RoamMins         0.060850      0.014761        -0.043836 -0.004484   0.076597   \n",
       "\n",
       "                 CustServCalls   DayMins  DayCalls  MonthlyCharge  OverageFee  \\\n",
       "Churn                 0.136657  0.170677  0.026311       0.094655    0.088582   \n",
       "AccountWeeks         -0.005942  0.017884  0.032690       0.011784   -0.007956   \n",
       "ContractRenewal       0.030328 -0.049604 -0.013043      -0.044644   -0.010400   \n",
       "DataPlan             -0.022156  0.002989 -0.012653       0.695608    0.022762   \n",
       "DataUsage            -0.017852 -0.004309 -0.019481       0.646449    0.011492   \n",
       "CustServCalls         1.000000 -0.015032 -0.020957      -0.025401   -0.017801   \n",
       "DayMins              -0.015032  1.000000  0.009391       0.598887    0.006401   \n",
       "DayCalls             -0.020957  0.009391  1.000000      -0.009012   -0.014064   \n",
       "MonthlyCharge        -0.025401  0.598887 -0.009012       1.000000    0.289230   \n",
       "OverageFee           -0.017801  0.006401 -0.014064       0.289230    1.000000   \n",
       "RoamMins             -0.017374 -0.016110  0.015139       0.055563   -0.003210   \n",
       "\n",
       "                 RoamMins  \n",
       "Churn            0.060850  \n",
       "AccountWeeks     0.014761  \n",
       "ContractRenewal -0.043836  \n",
       "DataPlan        -0.004484  \n",
       "DataUsage        0.076597  \n",
       "CustServCalls   -0.017374  \n",
       "DayMins         -0.016110  \n",
       "DayCalls         0.015139  \n",
       "MonthlyCharge    0.055563  \n",
       "OverageFee      -0.003210  \n",
       "RoamMins         1.000000  "
      ]
     },
     "execution_count": 6,
     "metadata": {},
     "output_type": "execute_result"
    }
   ],
   "source": [
    "df.corr('spearman')"
   ]
  },
  {
   "cell_type": "code",
   "execution_count": 7,
   "id": "04cf015e",
   "metadata": {},
   "outputs": [],
   "source": [
    "#Berdasarkan korelasi diatas Data Usage dan MonthlyCharge cukup memiliki korelasi\n",
    "#Berdasarkan korelasi diatas Data Plan dan MonthlyCharge cukup memiliki korelasi\n",
    "#Berdasarkan korelasi diatas Daymins dan M0nthly Charge cukup memiliki korelasi\n",
    "#Berdasarkan korelasi diatas Data Plan dan data usage cukup memiliki korelasi"
   ]
  },
  {
   "cell_type": "code",
   "execution_count": 8,
   "id": "9cb64fd9",
   "metadata": {},
   "outputs": [],
   "source": [
    "# Seharusnya Churn, Contract Renewal dan Data Plan merupakan string, maka dari integer diubah ke string"
   ]
  },
  {
   "cell_type": "code",
   "execution_count": 9,
   "id": "87070a70",
   "metadata": {},
   "outputs": [],
   "source": [
    "df.Churn=df['Churn'].astype('str')"
   ]
  },
  {
   "cell_type": "code",
   "execution_count": 10,
   "id": "22d82ab0",
   "metadata": {},
   "outputs": [],
   "source": [
    "df.ContractRenewal=df['ContractRenewal'].astype('str')"
   ]
  },
  {
   "cell_type": "code",
   "execution_count": 11,
   "id": "87b5b805",
   "metadata": {},
   "outputs": [],
   "source": [
    "df.DataPlan=df['DataPlan'].astype('str')"
   ]
  },
  {
   "cell_type": "code",
   "execution_count": 12,
   "id": "7d7e5a88",
   "metadata": {},
   "outputs": [
    {
     "data": {
      "text/plain": [
       "Churn               object\n",
       "AccountWeeks         int64\n",
       "ContractRenewal     object\n",
       "DataPlan            object\n",
       "DataUsage          float64\n",
       "CustServCalls        int64\n",
       "DayMins            float64\n",
       "DayCalls             int64\n",
       "MonthlyCharge      float64\n",
       "OverageFee         float64\n",
       "RoamMins           float64\n",
       "dtype: object"
      ]
     },
     "execution_count": 12,
     "metadata": {},
     "output_type": "execute_result"
    }
   ],
   "source": [
    "df.dtypes"
   ]
  },
  {
   "cell_type": "code",
   "execution_count": 13,
   "id": "07d99a74",
   "metadata": {},
   "outputs": [],
   "source": [
    "# cek missing values"
   ]
  },
  {
   "cell_type": "code",
   "execution_count": 14,
   "id": "54158a8c",
   "metadata": {},
   "outputs": [
    {
     "data": {
      "text/plain": [
       "Churn              0\n",
       "AccountWeeks       0\n",
       "ContractRenewal    0\n",
       "DataPlan           0\n",
       "DataUsage          0\n",
       "CustServCalls      0\n",
       "DayMins            0\n",
       "DayCalls           0\n",
       "MonthlyCharge      0\n",
       "OverageFee         0\n",
       "RoamMins           0\n",
       "dtype: int64"
      ]
     },
     "execution_count": 14,
     "metadata": {},
     "output_type": "execute_result"
    }
   ],
   "source": [
    "df.isna().sum()"
   ]
  },
  {
   "cell_type": "markdown",
   "id": "61c37f9d",
   "metadata": {},
   "source": [
    "dilihat dari df.info tidak ada kolom yang memiliki Missing Values"
   ]
  },
  {
   "cell_type": "code",
   "execution_count": 15,
   "id": "f82f2fc1",
   "metadata": {},
   "outputs": [],
   "source": [
    "# cek data duplikat"
   ]
  },
  {
   "cell_type": "code",
   "execution_count": 16,
   "id": "84f42b94",
   "metadata": {},
   "outputs": [
    {
     "data": {
      "text/plain": [
       "0"
      ]
     },
     "execution_count": 16,
     "metadata": {},
     "output_type": "execute_result"
    }
   ],
   "source": [
    "df.duplicated().sum()"
   ]
  },
  {
   "cell_type": "code",
   "execution_count": 17,
   "id": "dd83327a",
   "metadata": {},
   "outputs": [],
   "source": [
    "# cek outlier"
   ]
  },
  {
   "cell_type": "code",
   "execution_count": 18,
   "id": "636fea64",
   "metadata": {},
   "outputs": [],
   "source": [
    "# Visualisasi"
   ]
  },
  {
   "cell_type": "code",
   "execution_count": 19,
   "id": "580a26a4",
   "metadata": {},
   "outputs": [],
   "source": [
    "def vis_univar(data, column):\n",
    "    sns.color_palette(\"pastel\")\n",
    "    fig, (ax_box, ax_hist) = plt.subplots(2, sharex = True, gridspec_kw = {'height_ratios':(.2, .8)})\n",
    "    \n",
    "    sns.boxplot(data = df, x = column, ax = ax_box, y = 'Churn')\n",
    "    sns.histplot(data = df, x = column, ax = ax_hist, hue = 'Churn')\n",
    "    \n",
    "    ax_box.set(xlabel = '')\n",
    "    ax_hist.set(ylabel = 'Histogram (Count)')\n",
    "    \n",
    "    plt.show()"
   ]
  },
  {
   "cell_type": "code",
   "execution_count": 20,
   "id": "13e7ba3d",
   "metadata": {},
   "outputs": [
    {
     "data": {
      "image/png": "[encoded data removed]",
      "text/plain": [
       "<Figure size 432x288 with 2 Axes>"
      ]
     },
     "metadata": {
      "needs_background": "light"
     },
     "output_type": "display_data"
    },
    {
     "data": {
      "image/png": "[encoded data removed]",
      "text/plain": [
       "<Figure size 432x288 with 2 Axes>"
      ]
     },
     "metadata": {
      "needs_background": "light"
     },
     "output_type": "display_data"
    },
    {
     "data": {
      "image/png": "[encoded data removed]",
      "text/plain": [
       "<Figure size 432x288 with 2 Axes>"
      ]
     },
     "metadata": {
      "needs_background": "light"
     },
     "output_type": "display_data"
    },
    {
     "data": {
      "image/png": "[encoded data removed]",
      "text/plain": [
       "<Figure size 432x288 with 2 Axes>"
      ]
     },
     "metadata": {
      "needs_background": "light"
     },
     "output_type": "display_data"
    },
    {
     "data": {
      "image/png": "[encoded data removed]",
      "text/plain": [
       "<Figure size 432x288 with 2 Axes>"
      ]
     },
     "metadata": {
      "needs_background": "light"
     },
     "output_type": "display_data"
    },
    {
     "data": {
      "image/png": "[encoded data removed]",
      "text/plain": [
       "<Figure size 432x288 with 2 Axes>"
      ]
     },
     "metadata": {
      "needs_background": "light"
     },
     "output_type": "display_data"
    },
    {
     "data": {
      "image/png": "[encoded data removed]",
      "text/plain": [
       "<Figure size 432x288 with 2 Axes>"
      ]
     },
     "metadata": {
      "needs_background": "light"
     },
     "output_type": "display_data"
    },
    {
     "data": {
      "image/png": "[encoded data removed]",
      "text/plain": [
       "<Figure size 432x288 with 2 Axes>"
      ]
     },
     "metadata": {
      "needs_background": "light"
     },
     "output_type": "display_data"
    }
   ],
   "source": [
    "vis_univar(df,'DataUsage')\n",
    "vis_univar(df,'AccountWeeks')\n",
    "vis_univar(df,'CustServCalls') \n",
    "vis_univar(df,'DayMins')\n",
    "vis_univar(df,'DayCalls')\n",
    "vis_univar(df,'MonthlyCharge')\n",
    "vis_univar(df,'OverageFee')\n",
    "vis_univar(df,'RoamMins')"
   ]
  },
  {
   "cell_type": "code",
   "execution_count": null,
   "id": "20490101",
   "metadata": {},
   "outputs": [],
   "source": []
  },
  {
   "cell_type": "code",
   "execution_count": 21,
   "id": "9c0fa8c0",
   "metadata": {},
   "outputs": [
    {
     "data": {
      "text/plain": [
       "array([[<AxesSubplot:title={'center':'AccountWeeks'}>,\n",
       "        <AxesSubplot:title={'center':'DataUsage'}>,\n",
       "        <AxesSubplot:title={'center':'CustServCalls'}>],\n",
       "       [<AxesSubplot:title={'center':'DayMins'}>,\n",
       "        <AxesSubplot:title={'center':'DayCalls'}>,\n",
       "        <AxesSubplot:title={'center':'MonthlyCharge'}>],\n",
       "       [<AxesSubplot:title={'center':'OverageFee'}>,\n",
       "        <AxesSubplot:title={'center':'RoamMins'}>, <AxesSubplot:>]],\n",
       "      dtype=object)"
      ]
     },
     "execution_count": 21,
     "metadata": {},
     "output_type": "execute_result"
    },
    {
     "data": {
      "image/png": "[encoded data removed]",
      "text/plain": [
       "<Figure size 1080x1080 with 9 Axes>"
      ]
     },
     "metadata": {
      "needs_background": "light"
     },
     "output_type": "display_data"
    }
   ],
   "source": [
    "df.hist(figsize=(15,15), bins=30, color='c')"
   ]
  },
  {
   "cell_type": "code",
   "execution_count": 22,
   "id": "2c79dcb3",
   "metadata": {
    "scrolled": false
   },
   "outputs": [
    {
     "data": {
      "text/plain": [
       "<seaborn.axisgrid.FacetGrid at 0x274375a1a60>"
      ]
     },
     "execution_count": 22,
     "metadata": {},
     "output_type": "execute_result"
    },
    {
     "data": {
      "image/png": "[encoded data removed]",
      "text/plain": [
       "<Figure size 402.375x360 with 1 Axes>"
      ]
     },
     "metadata": {
      "needs_background": "light"
     },
     "output_type": "display_data"
    }
   ],
   "source": [
    "sns.catplot(x=\"ContractRenewal\", y=\"CustServCalls\", hue=\"Churn\", kind=\"bar\", data=df)"
   ]
  },
  {
   "cell_type": "code",
   "execution_count": 23,
   "id": "fa6b72d1",
   "metadata": {
    "scrolled": false
   },
   "outputs": [
    {
     "data": {
      "image/png": "[encoded data removed]",
      "text/plain": [
       "<Figure size 432x288 with 1 Axes>"
      ]
     },
     "metadata": {
      "needs_background": "light"
     },
     "output_type": "display_data"
    }
   ],
   "source": [
    "fig = plt.figure()\n",
    "sns.countplot(data = df, x='DataPlan', hue = 'Churn')\n",
    "plt.show() "
   ]
  },
  {
   "cell_type": "code",
   "execution_count": 24,
   "id": "71b442a2",
   "metadata": {},
   "outputs": [],
   "source": [
    "#Semakin tidak memiliki data plan maka semakin tinggi kemungkinan untuk Churn"
   ]
  },
  {
   "cell_type": "code",
   "execution_count": 25,
   "id": "8159cb51",
   "metadata": {
    "scrolled": false
   },
   "outputs": [
    {
     "data": {
      "image/png": "[encoded data removed]",
      "text/plain": [
       "<Figure size 432x288 with 1 Axes>"
      ]
     },
     "metadata": {
      "needs_background": "light"
     },
     "output_type": "display_data"
    }
   ],
   "source": [
    "fig = plt.figure()\n",
    "sns.countplot(data = df, x='ContractRenewal', hue = 'Churn')\n",
    "plt.show() "
   ]
  },
  {
   "cell_type": "code",
   "execution_count": 26,
   "id": "9ab6d7bf",
   "metadata": {},
   "outputs": [],
   "source": [
    "# Pada contract renewal Perbedaan tidak signifikan sehingga tidak terlalu mempengaruhi Churn"
   ]
  },
  {
   "cell_type": "code",
   "execution_count": 27,
   "id": "e4e050b6",
   "metadata": {},
   "outputs": [
    {
     "name": "stdout",
     "output_type": "stream",
     "text": [
      "<class 'pandas.core.frame.DataFrame'>\n",
      "RangeIndex: 3333 entries, 0 to 3332\n",
      "Data columns (total 11 columns):\n",
      " #   Column           Non-Null Count  Dtype  \n",
      "---  ------           --------------  -----  \n",
      " 0   Churn            3333 non-null   object \n",
      " 1   AccountWeeks     3333 non-null   int64  \n",
      " 2   ContractRenewal  3333 non-null   object \n",
      " 3   DataPlan         3333 non-null   object \n",
      " 4   DataUsage        3333 non-null   float64\n",
      " 5   CustServCalls    3333 non-null   int64  \n",
      " 6   DayMins          3333 non-null   float64\n",
      " 7   DayCalls         3333 non-null   int64  \n",
      " 8   MonthlyCharge    3333 non-null   float64\n",
      " 9   OverageFee       3333 non-null   float64\n",
      " 10  RoamMins         3333 non-null   float64\n",
      "dtypes: float64(5), int64(3), object(3)\n",
      "memory usage: 286.6+ KB\n"
     ]
    }
   ],
   "source": [
    "df.info()"
   ]
  },
  {
   "cell_type": "code",
   "execution_count": 28,
   "id": "14d91414",
   "metadata": {
    "scrolled": true
   },
   "outputs": [
    {
     "data": {
      "image/png": "[encoded data removed]",
      "text/plain": [
       "<Figure size 1080x432 with 8 Axes>"
      ]
     },
     "metadata": {
      "needs_background": "light"
     },
     "output_type": "display_data"
    }
   ],
   "source": [
    "#membuat distribution diagram untuk 3 variabel numerik berikut \n",
    "numerical_features = ['AccountWeeks','DataUsage','CustServCalls','DayMins','DayCalls','MonthlyCharge','OverageFee','RoamMins']\n",
    "fig, ax = plt.subplots(2, 4, figsize=(15, 6))\n",
    "#gunakan code berikut ini untuk memplot 2 lapisan untuk membedakan mana yang Churn (orange) atau Tidak (blue) \n",
    "df[df.Churn == '0'][numerical_features].hist(bins=20, color='blue', alpha=0.5, ax=ax)\n",
    "df[df.Churn == '1'][numerical_features].hist(bins=20, color='orange', alpha=0.5, ax=ax)\n",
    "plt.show()\n"
   ]
  },
  {
   "cell_type": "markdown",
   "id": "5ebfb636",
   "metadata": {},
   "source": [
    "Pada histogram di atas dapat diketahui bahwa, untuk feature \n",
    "AccountWeeks, DataUsage, CustServCalls, DayCalls terlihat tidak ada kecenderungan apapun terhadap Churn.\n",
    "Semakin kecil MonthlyCharge, Overage fee, Day mins, dan Roam Mins semakin kecil kecenderungan untuk Churn\n",
    "\n"
   ]
  },
  {
   "cell_type": "markdown",
   "id": "ea87fe2a",
   "metadata": {},
   "source": [
    "Kemungkinan besar customer churn dikarenakan biaya perbulan dan biaya tambahan terlalu mahal untuk customer atau ada yang lebih murah dari yang ditawarkan oleh perusahaan telekom, maka dari itu rekomendasi untuk perusahaan agar customer churn menurun adalah dengan memberi diskon atau gift kepada pelanggan yang telah menggunakan rata-rata 100 menit/hari  "
   ]
  },
  {
   "cell_type": "code",
   "execution_count": null,
   "id": "555e463f",
   "metadata": {},
   "outputs": [],
   "source": []
  },
  {
   "cell_type": "markdown",
   "id": "884ef62c",
   "metadata": {},
   "source": [
    "### Clasification"
   ]
  },
  {
   "cell_type": "code",
   "execution_count": 29,
   "id": "93953c7d",
   "metadata": {},
   "outputs": [
    {
     "data": {
      "text/plain": [
       "0    2850\n",
       "1     483\n",
       "Name: Churn, dtype: int64"
      ]
     },
     "execution_count": 29,
     "metadata": {},
     "output_type": "execute_result"
    }
   ],
   "source": [
    "df['Churn'].value_counts()"
   ]
  },
  {
   "cell_type": "code",
   "execution_count": 30,
   "id": "5baa0687",
   "metadata": {
    "scrolled": true
   },
   "outputs": [
    {
     "name": "stderr",
     "output_type": "stream",
     "text": [
      "C:\\Users\\Lenovo\\anaconda3\\lib\\site-packages\\seaborn\\_decorators.py:36: FutureWarning: Pass the following variable as a keyword arg: x. From version 0.12, the only valid positional argument will be `data`, and passing other arguments without an explicit keyword will result in an error or misinterpretation.\n",
      "  warnings.warn(\n"
     ]
    },
    {
     "data": {
      "text/plain": [
       "<AxesSubplot:xlabel='Churn', ylabel='count'>"
      ]
     },
     "execution_count": 30,
     "metadata": {},
     "output_type": "execute_result"
    },
    {
     "data": {
      "image/png": "[encoded data removed]",
      "text/plain": [
       "<Figure size 432x288 with 1 Axes>"
      ]
     },
     "metadata": {
      "needs_background": "light"
     },
     "output_type": "display_data"
    }
   ],
   "source": [
    "import seaborn as sns\n",
    "sns.countplot(df[\"Churn\"])"
   ]
  },
  {
   "cell_type": "markdown",
   "id": "bdd4ebbc",
   "metadata": {},
   "source": [
    "data diatas imbalance"
   ]
  },
  {
   "cell_type": "code",
   "execution_count": 31,
   "id": "249ab855",
   "metadata": {},
   "outputs": [],
   "source": [
    "from sklearn.utils import resample\n",
    "\n",
    "#create two different dataframe of majority and minority class \n",
    "df_majority = df[(df['Churn']==\"0\")] \n",
    "df_minority = df[(df['Churn']==\"1\")] \n",
    "# upsample minority class\n",
    "df_minority_upsampled = resample(df_minority, \n",
    "                                 replace=True,    # sample with replacement\n",
    "                                 n_samples= 2850, # to match majority class\n",
    "                                 random_state=42)  # reproducible results\n",
    "# Combine majority class with upsampled minority class\n",
    "df_upsampled = pd.concat([df_minority_upsampled, df_majority])"
   ]
  },
  {
   "cell_type": "code",
   "execution_count": 32,
   "id": "4b76b71c",
   "metadata": {
    "scrolled": true
   },
   "outputs": [
    {
     "data": {
      "text/plain": [
       "1    2850\n",
       "0    2850\n",
       "Name: Churn, dtype: int64"
      ]
     },
     "execution_count": 32,
     "metadata": {},
     "output_type": "execute_result"
    }
   ],
   "source": [
    "df_upsampled[\"Churn\"].value_counts()"
   ]
  },
  {
   "cell_type": "code",
   "execution_count": 33,
   "id": "2dd20119",
   "metadata": {},
   "outputs": [],
   "source": [
    "df[\"Churn\"] = df[\"Churn\"].astype(\"int\")\n",
    "df[\"ContractRenewal\"] = df[\"ContractRenewal\"].astype(\"int\")\n",
    "df[\"DataPlan\"] = df[\"DataPlan\"].astype(\"int\")\n"
   ]
  },
  {
   "cell_type": "code",
   "execution_count": 34,
   "id": "7d4fb181",
   "metadata": {},
   "outputs": [
    {
     "name": "stdout",
     "output_type": "stream",
     "text": [
      "<class 'pandas.core.frame.DataFrame'>\n",
      "RangeIndex: 3333 entries, 0 to 3332\n",
      "Data columns (total 11 columns):\n",
      " #   Column           Non-Null Count  Dtype  \n",
      "---  ------           --------------  -----  \n",
      " 0   Churn            3333 non-null   int32  \n",
      " 1   AccountWeeks     3333 non-null   int64  \n",
      " 2   ContractRenewal  3333 non-null   int32  \n",
      " 3   DataPlan         3333 non-null   int32  \n",
      " 4   DataUsage        3333 non-null   float64\n",
      " 5   CustServCalls    3333 non-null   int64  \n",
      " 6   DayMins          3333 non-null   float64\n",
      " 7   DayCalls         3333 non-null   int64  \n",
      " 8   MonthlyCharge    3333 non-null   float64\n",
      " 9   OverageFee       3333 non-null   float64\n",
      " 10  RoamMins         3333 non-null   float64\n",
      "dtypes: float64(5), int32(3), int64(3)\n",
      "memory usage: 247.5 KB\n"
     ]
    }
   ],
   "source": [
    "df.info()"
   ]
  },
  {
   "cell_type": "code",
   "execution_count": 35,
   "id": "084305b8",
   "metadata": {},
   "outputs": [],
   "source": [
    "# defining feature matrix(X) and response vector(y)\n",
    "X = df.loc[:, df.columns != 'Churn']\n",
    "y = df[\"Churn\"]"
   ]
  },
  {
   "cell_type": "code",
   "execution_count": 36,
   "id": "17d17365",
   "metadata": {},
   "outputs": [],
   "source": [
    "# splitting X and y into training and testing sets\n",
    "from sklearn.model_selection import train_test_split\n",
    "X_train, X_test, y_train, y_test = train_test_split(X, y, test_size=0.4,\n",
    "                                                    random_state=1)"
   ]
  },
  {
   "cell_type": "code",
   "execution_count": 37,
   "id": "b180846e",
   "metadata": {},
   "outputs": [],
   "source": [
    "# Logistic Regression"
   ]
  },
  {
   "cell_type": "code",
   "execution_count": 38,
   "id": "979232db",
   "metadata": {},
   "outputs": [
    {
     "name": "stderr",
     "output_type": "stream",
     "text": [
      "C:\\Users\\Lenovo\\anaconda3\\lib\\site-packages\\sklearn\\linear_model\\_logistic.py:814: ConvergenceWarning: lbfgs failed to converge (status=1):\n",
      "STOP: TOTAL NO. of ITERATIONS REACHED LIMIT.\n",
      "\n",
      "Increase the number of iterations (max_iter) or scale the data as shown in:\n",
      "    https://scikit-learn.org/stable/modules/preprocessing.html\n",
      "Please also refer to the documentation for alternative solver options:\n",
      "    https://scikit-learn.org/stable/modules/linear_model.html#logistic-regression\n",
      "  n_iter_i = _check_optimize_result(\n"
     ]
    }
   ],
   "source": [
    "from sklearn.linear_model import LogisticRegression\n",
    "lr = LogisticRegression()\n",
    "lr = lr.fit(X_train, y_train)"
   ]
  },
  {
   "cell_type": "code",
   "execution_count": null,
   "id": "206612b9",
   "metadata": {},
   "outputs": [],
   "source": []
  },
  {
   "cell_type": "code",
   "execution_count": 39,
   "id": "c8192199",
   "metadata": {},
   "outputs": [],
   "source": [
    "# decision tree"
   ]
  },
  {
   "cell_type": "code",
   "execution_count": 40,
   "id": "066d2daf",
   "metadata": {},
   "outputs": [],
   "source": [
    "from sklearn import tree\n",
    "#import pydotplus\n",
    "#import matplotlib.pyplot as plt\n",
    "#import matplotlib.image as pltimg\n",
    "\n",
    "dtree = tree.DecisionTreeClassifier()\n",
    "dtree = dtree.fit(X_train, y_train)"
   ]
  },
  {
   "cell_type": "code",
   "execution_count": 41,
   "id": "38de378b",
   "metadata": {},
   "outputs": [
    {
     "name": "stdout",
     "output_type": "stream",
     "text": [
      "|--- feature_4 <= 3.50\n",
      "|   |--- feature_5 <= 247.45\n",
      "|   |   |--- feature_1 <= 0.50\n",
      "|   |   |   |--- feature_9 <= 12.85\n",
      "|   |   |   |   |--- feature_5 <= 223.45\n",
      "|   |   |   |   |   |--- feature_6 <= 57.50\n",
      "|   |   |   |   |   |   |--- feature_4 <= 2.00\n",
      "|   |   |   |   |   |   |   |--- class: 1\n",
      "|   |   |   |   |   |   |--- feature_4 >  2.00\n",
      "|   |   |   |   |   |   |   |--- class: 0\n",
      "|   |   |   |   |   |--- feature_6 >  57.50\n",
      "|   |   |   |   |   |   |--- feature_9 <= 5.65\n",
      "|   |   |   |   |   |   |   |--- feature_9 <= 3.85\n",
      "|   |   |   |   |   |   |   |   |--- class: 0\n",
      "|   |   |   |   |   |   |   |--- feature_9 >  3.85\n",
      "|   |   |   |   |   |   |   |   |--- class: 1\n",
      "|   |   |   |   |   |   |--- feature_9 >  5.65\n",
      "|   |   |   |   |   |   |   |--- feature_8 <= 13.84\n",
      "|   |   |   |   |   |   |   |   |--- feature_8 <= 10.63\n",
      "|   |   |   |   |   |   |   |   |   |--- feature_8 <= 10.57\n",
      "|   |   |   |   |   |   |   |   |   |   |--- feature_6 <= 118.00\n",
      "|   |   |   |   |   |   |   |   |   |   |   |--- truncated branch of depth 4\n",
      "|   |   |   |   |   |   |   |   |   |   |--- feature_6 >  118.00\n",
      "|   |   |   |   |   |   |   |   |   |   |   |--- truncated branch of depth 4\n",
      "|   |   |   |   |   |   |   |   |   |--- feature_8 >  10.57\n",
      "|   |   |   |   |   |   |   |   |   |   |--- class: 1\n",
      "|   |   |   |   |   |   |   |   |--- feature_8 >  10.63\n",
      "|   |   |   |   |   |   |   |   |   |--- class: 0\n",
      "|   |   |   |   |   |   |   |--- feature_8 >  13.84\n",
      "|   |   |   |   |   |   |   |   |--- feature_5 <= 155.40\n",
      "|   |   |   |   |   |   |   |   |   |--- class: 0\n",
      "|   |   |   |   |   |   |   |   |--- feature_5 >  155.40\n",
      "|   |   |   |   |   |   |   |   |   |--- feature_0 <= 95.50\n",
      "|   |   |   |   |   |   |   |   |   |   |--- class: 1\n",
      "|   |   |   |   |   |   |   |   |   |--- feature_0 >  95.50\n",
      "|   |   |   |   |   |   |   |   |   |   |--- feature_5 <= 205.90\n",
      "|   |   |   |   |   |   |   |   |   |   |   |--- class: 0\n",
      "|   |   |   |   |   |   |   |   |   |   |--- feature_5 >  205.90\n",
      "|   |   |   |   |   |   |   |   |   |   |   |--- class: 1\n",
      "|   |   |   |   |--- feature_5 >  223.45\n",
      "|   |   |   |   |   |--- feature_0 <= 67.50\n",
      "|   |   |   |   |   |   |--- class: 0\n",
      "|   |   |   |   |   |--- feature_0 >  67.50\n",
      "|   |   |   |   |   |   |--- feature_6 <= 111.50\n",
      "|   |   |   |   |   |   |   |--- feature_5 <= 243.45\n",
      "|   |   |   |   |   |   |   |   |--- class: 1\n",
      "|   |   |   |   |   |   |   |--- feature_5 >  243.45\n",
      "|   |   |   |   |   |   |   |   |--- feature_8 <= 9.27\n",
      "|   |   |   |   |   |   |   |   |   |--- class: 1\n",
      "|   |   |   |   |   |   |   |   |--- feature_8 >  9.27\n",
      "|   |   |   |   |   |   |   |   |   |--- class: 0\n",
      "|   |   |   |   |   |   |--- feature_6 >  111.50\n",
      "|   |   |   |   |   |   |   |--- feature_6 <= 131.50\n",
      "|   |   |   |   |   |   |   |   |--- class: 0\n",
      "|   |   |   |   |   |   |   |--- feature_6 >  131.50\n",
      "|   |   |   |   |   |   |   |   |--- class: 1\n",
      "|   |   |   |--- feature_9 >  12.85\n",
      "|   |   |   |   |--- feature_0 <= 34.50\n",
      "|   |   |   |   |   |--- class: 0\n",
      "|   |   |   |   |--- feature_0 >  34.50\n",
      "|   |   |   |   |   |--- class: 1\n",
      "|   |   |--- feature_1 >  0.50\n",
      "|   |   |   |--- feature_8 <= 16.36\n",
      "|   |   |   |   |--- feature_5 <= 223.25\n",
      "|   |   |   |   |   |--- feature_3 <= 4.22\n",
      "|   |   |   |   |   |   |--- feature_6 <= 122.50\n",
      "|   |   |   |   |   |   |   |--- feature_8 <= 12.30\n",
      "|   |   |   |   |   |   |   |   |--- feature_0 <= 192.50\n",
      "|   |   |   |   |   |   |   |   |   |--- feature_8 <= 9.22\n",
      "|   |   |   |   |   |   |   |   |   |   |--- feature_9 <= 6.95\n",
      "|   |   |   |   |   |   |   |   |   |   |   |--- truncated branch of depth 4\n",
      "|   |   |   |   |   |   |   |   |   |   |--- feature_9 >  6.95\n",
      "|   |   |   |   |   |   |   |   |   |   |   |--- truncated branch of depth 3\n",
      "|   |   |   |   |   |   |   |   |   |--- feature_8 >  9.22\n",
      "|   |   |   |   |   |   |   |   |   |   |--- feature_8 <= 9.22\n",
      "|   |   |   |   |   |   |   |   |   |   |   |--- class: 1\n",
      "|   |   |   |   |   |   |   |   |   |   |--- feature_8 >  9.22\n",
      "|   |   |   |   |   |   |   |   |   |   |   |--- truncated branch of depth 11\n",
      "|   |   |   |   |   |   |   |   |--- feature_0 >  192.50\n",
      "|   |   |   |   |   |   |   |   |   |--- feature_7 <= 32.85\n",
      "|   |   |   |   |   |   |   |   |   |   |--- class: 1\n",
      "|   |   |   |   |   |   |   |   |   |--- feature_7 >  32.85\n",
      "|   |   |   |   |   |   |   |   |   |   |--- class: 0\n",
      "|   |   |   |   |   |   |   |--- feature_8 >  12.30\n",
      "|   |   |   |   |   |   |   |   |--- feature_5 <= 210.55\n",
      "|   |   |   |   |   |   |   |   |   |--- feature_8 <= 12.32\n",
      "|   |   |   |   |   |   |   |   |   |   |--- feature_4 <= 1.50\n",
      "|   |   |   |   |   |   |   |   |   |   |   |--- class: 1\n",
      "|   |   |   |   |   |   |   |   |   |   |--- feature_4 >  1.50\n",
      "|   |   |   |   |   |   |   |   |   |   |   |--- class: 0\n",
      "|   |   |   |   |   |   |   |   |   |--- feature_8 >  12.32\n",
      "|   |   |   |   |   |   |   |   |   |   |--- feature_5 <= 90.20\n",
      "|   |   |   |   |   |   |   |   |   |   |   |--- truncated branch of depth 3\n",
      "|   |   |   |   |   |   |   |   |   |   |--- feature_5 >  90.20\n",
      "|   |   |   |   |   |   |   |   |   |   |   |--- truncated branch of depth 5\n",
      "|   |   |   |   |   |   |   |   |--- feature_5 >  210.55\n",
      "|   |   |   |   |   |   |   |   |   |--- feature_7 <= 57.50\n",
      "|   |   |   |   |   |   |   |   |   |   |--- class: 1\n",
      "|   |   |   |   |   |   |   |   |   |--- feature_7 >  57.50\n",
      "|   |   |   |   |   |   |   |   |   |   |--- feature_0 <= 155.50\n",
      "|   |   |   |   |   |   |   |   |   |   |   |--- truncated branch of depth 3\n",
      "|   |   |   |   |   |   |   |   |   |   |--- feature_0 >  155.50\n",
      "|   |   |   |   |   |   |   |   |   |   |   |--- class: 1\n",
      "|   |   |   |   |   |   |--- feature_6 >  122.50\n",
      "|   |   |   |   |   |   |   |--- feature_8 <= 3.93\n",
      "|   |   |   |   |   |   |   |   |--- feature_2 <= 0.50\n",
      "|   |   |   |   |   |   |   |   |   |--- class: 0\n",
      "|   |   |   |   |   |   |   |   |--- feature_2 >  0.50\n",
      "|   |   |   |   |   |   |   |   |   |--- class: 1\n",
      "|   |   |   |   |   |   |   |--- feature_8 >  3.93\n",
      "|   |   |   |   |   |   |   |   |--- feature_8 <= 10.50\n",
      "|   |   |   |   |   |   |   |   |   |--- feature_8 <= 10.01\n",
      "|   |   |   |   |   |   |   |   |   |   |--- feature_3 <= 2.35\n",
      "|   |   |   |   |   |   |   |   |   |   |   |--- truncated branch of depth 3\n",
      "|   |   |   |   |   |   |   |   |   |   |--- feature_3 >  2.35\n",
      "|   |   |   |   |   |   |   |   |   |   |   |--- truncated branch of depth 4\n",
      "|   |   |   |   |   |   |   |   |   |--- feature_8 >  10.01\n",
      "|   |   |   |   |   |   |   |   |   |   |--- feature_0 <= 102.00\n",
      "|   |   |   |   |   |   |   |   |   |   |   |--- truncated branch of depth 2\n",
      "|   |   |   |   |   |   |   |   |   |   |--- feature_0 >  102.00\n",
      "|   |   |   |   |   |   |   |   |   |   |   |--- truncated branch of depth 2\n",
      "|   |   |   |   |   |   |   |   |--- feature_8 >  10.50\n",
      "|   |   |   |   |   |   |   |   |   |--- class: 0\n",
      "|   |   |   |   |   |--- feature_3 >  4.22\n",
      "|   |   |   |   |   |   |--- feature_8 <= 12.84\n",
      "|   |   |   |   |   |   |   |--- class: 0\n",
      "|   |   |   |   |   |   |--- feature_8 >  12.84\n",
      "|   |   |   |   |   |   |   |--- class: 1\n",
      "|   |   |   |   |--- feature_5 >  223.25\n",
      "|   |   |   |   |   |--- feature_8 <= 12.49\n",
      "|   |   |   |   |   |   |--- feature_5 <= 223.40\n",
      "|   |   |   |   |   |   |   |--- class: 1\n",
      "|   |   |   |   |   |   |--- feature_5 >  223.40\n",
      "|   |   |   |   |   |   |   |--- feature_9 <= 9.25\n",
      "|   |   |   |   |   |   |   |   |--- class: 0\n",
      "|   |   |   |   |   |   |   |--- feature_9 >  9.25\n",
      "|   |   |   |   |   |   |   |   |--- feature_9 <= 9.35\n",
      "|   |   |   |   |   |   |   |   |   |--- feature_6 <= 92.00\n",
      "|   |   |   |   |   |   |   |   |   |   |--- class: 1\n",
      "|   |   |   |   |   |   |   |   |   |--- feature_6 >  92.00\n",
      "|   |   |   |   |   |   |   |   |   |   |--- class: 0\n",
      "|   |   |   |   |   |   |   |   |--- feature_9 >  9.35\n",
      "|   |   |   |   |   |   |   |   |   |--- feature_5 <= 227.05\n",
      "|   |   |   |   |   |   |   |   |   |   |--- feature_5 <= 226.15\n",
      "|   |   |   |   |   |   |   |   |   |   |   |--- class: 0\n",
      "|   |   |   |   |   |   |   |   |   |   |--- feature_5 >  226.15\n",
      "|   |   |   |   |   |   |   |   |   |   |   |--- truncated branch of depth 2\n",
      "|   |   |   |   |   |   |   |   |   |--- feature_5 >  227.05\n",
      "|   |   |   |   |   |   |   |   |   |   |--- feature_4 <= 1.50\n",
      "|   |   |   |   |   |   |   |   |   |   |   |--- class: 0\n",
      "|   |   |   |   |   |   |   |   |   |   |--- feature_4 >  1.50\n",
      "|   |   |   |   |   |   |   |   |   |   |   |--- truncated branch of depth 3\n",
      "|   |   |   |   |   |--- feature_8 >  12.49\n",
      "|   |   |   |   |   |   |--- feature_2 <= 0.50\n",
      "|   |   |   |   |   |   |   |--- feature_4 <= 2.50\n",
      "|   |   |   |   |   |   |   |   |--- class: 1\n",
      "|   |   |   |   |   |   |   |--- feature_4 >  2.50\n",
      "|   |   |   |   |   |   |   |   |--- feature_8 <= 12.71\n",
      "|   |   |   |   |   |   |   |   |   |--- class: 1\n",
      "|   |   |   |   |   |   |   |   |--- feature_8 >  12.71\n",
      "|   |   |   |   |   |   |   |   |   |--- class: 0\n",
      "|   |   |   |   |   |   |--- feature_2 >  0.50\n",
      "|   |   |   |   |   |   |   |--- class: 0\n",
      "|   |   |   |--- feature_8 >  16.36\n",
      "|   |   |   |   |--- feature_3 <= 0.09\n",
      "|   |   |   |   |   |--- feature_7 <= 54.00\n",
      "|   |   |   |   |   |   |--- class: 0\n",
      "|   |   |   |   |   |--- feature_7 >  54.00\n",
      "|   |   |   |   |   |   |--- class: 1\n",
      "|   |   |   |   |--- feature_3 >  0.09\n",
      "|   |   |   |   |   |--- class: 0\n",
      "|   |--- feature_5 >  247.45\n",
      "|   |   |--- feature_3 <= 1.04\n",
      "|   |   |   |--- feature_7 <= 62.50\n",
      "|   |   |   |   |--- feature_9 <= 17.15\n",
      "|   |   |   |   |   |--- feature_8 <= 10.68\n",
      "|   |   |   |   |   |   |--- feature_0 <= 167.50\n",
      "|   |   |   |   |   |   |   |--- feature_1 <= 0.50\n",
      "|   |   |   |   |   |   |   |   |--- feature_8 <= 7.58\n",
      "|   |   |   |   |   |   |   |   |   |--- feature_0 <= 97.50\n",
      "|   |   |   |   |   |   |   |   |   |   |--- class: 0\n",
      "|   |   |   |   |   |   |   |   |   |--- feature_0 >  97.50\n",
      "|   |   |   |   |   |   |   |   |   |   |--- class: 1\n",
      "|   |   |   |   |   |   |   |   |--- feature_8 >  7.58\n",
      "|   |   |   |   |   |   |   |   |   |--- feature_0 <= 66.50\n",
      "|   |   |   |   |   |   |   |   |   |   |--- feature_7 <= 60.50\n",
      "|   |   |   |   |   |   |   |   |   |   |   |--- class: 1\n",
      "|   |   |   |   |   |   |   |   |   |   |--- feature_7 >  60.50\n",
      "|   |   |   |   |   |   |   |   |   |   |   |--- class: 0\n",
      "|   |   |   |   |   |   |   |   |   |--- feature_0 >  66.50\n",
      "|   |   |   |   |   |   |   |   |   |   |--- class: 0\n",
      "|   |   |   |   |   |   |   |--- feature_1 >  0.50\n",
      "|   |   |   |   |   |   |   |   |--- class: 0\n",
      "|   |   |   |   |   |   |--- feature_0 >  167.50\n",
      "|   |   |   |   |   |   |   |--- feature_9 <= 10.45\n",
      "|   |   |   |   |   |   |   |   |--- class: 0\n",
      "|   |   |   |   |   |   |   |--- feature_9 >  10.45\n",
      "|   |   |   |   |   |   |   |   |--- class: 1\n",
      "|   |   |   |   |   |--- feature_8 >  10.68\n",
      "|   |   |   |   |   |   |--- feature_0 <= 61.00\n",
      "|   |   |   |   |   |   |   |--- class: 0\n",
      "|   |   |   |   |   |   |--- feature_0 >  61.00\n",
      "|   |   |   |   |   |   |   |--- class: 1\n",
      "|   |   |   |   |--- feature_9 >  17.15\n",
      "|   |   |   |   |   |--- class: 1\n",
      "|   |   |   |--- feature_7 >  62.50\n",
      "|   |   |   |   |--- feature_7 <= 64.95\n",
      "|   |   |   |   |   |--- feature_8 <= 9.44\n",
      "|   |   |   |   |   |   |--- feature_9 <= 13.75\n",
      "|   |   |   |   |   |   |   |--- feature_4 <= 0.50\n",
      "|   |   |   |   |   |   |   |   |--- class: 1\n",
      "|   |   |   |   |   |   |   |--- feature_4 >  0.50\n",
      "|   |   |   |   |   |   |   |   |--- feature_6 <= 62.00\n",
      "|   |   |   |   |   |   |   |   |   |--- class: 1\n",
      "|   |   |   |   |   |   |   |   |--- feature_6 >  62.00\n",
      "|   |   |   |   |   |   |   |   |   |--- class: 0\n",
      "|   |   |   |   |   |   |--- feature_9 >  13.75\n",
      "|   |   |   |   |   |   |   |--- class: 1\n",
      "|   |   |   |   |   |--- feature_8 >  9.44\n",
      "|   |   |   |   |   |   |--- feature_0 <= 93.50\n",
      "|   |   |   |   |   |   |   |--- class: 1\n",
      "|   |   |   |   |   |   |--- feature_0 >  93.50\n",
      "|   |   |   |   |   |   |   |--- feature_6 <= 106.50\n",
      "|   |   |   |   |   |   |   |   |--- feature_4 <= 2.50\n",
      "|   |   |   |   |   |   |   |   |   |--- class: 1\n",
      "|   |   |   |   |   |   |   |   |--- feature_4 >  2.50\n",
      "|   |   |   |   |   |   |   |   |   |--- class: 0\n",
      "|   |   |   |   |   |   |   |--- feature_6 >  106.50\n",
      "|   |   |   |   |   |   |   |   |--- class: 0\n",
      "|   |   |   |   |--- feature_7 >  64.95\n",
      "|   |   |   |   |   |--- feature_9 <= 8.45\n",
      "|   |   |   |   |   |   |--- feature_6 <= 92.00\n",
      "|   |   |   |   |   |   |   |--- feature_8 <= 8.93\n",
      "|   |   |   |   |   |   |   |   |--- class: 1\n",
      "|   |   |   |   |   |   |   |--- feature_8 >  8.93\n",
      "|   |   |   |   |   |   |   |   |--- class: 0\n",
      "|   |   |   |   |   |   |--- feature_6 >  92.00\n",
      "|   |   |   |   |   |   |   |--- feature_0 <= 144.50\n",
      "|   |   |   |   |   |   |   |   |--- class: 1\n",
      "|   |   |   |   |   |   |   |--- feature_0 >  144.50\n",
      "|   |   |   |   |   |   |   |   |--- feature_8 <= 11.72\n",
      "|   |   |   |   |   |   |   |   |   |--- class: 1\n",
      "|   |   |   |   |   |   |   |   |--- feature_8 >  11.72\n",
      "|   |   |   |   |   |   |   |   |   |--- class: 0\n",
      "|   |   |   |   |   |--- feature_9 >  8.45\n",
      "|   |   |   |   |   |   |--- feature_8 <= 8.58\n",
      "|   |   |   |   |   |   |   |--- feature_9 <= 10.45\n",
      "|   |   |   |   |   |   |   |   |--- class: 1\n",
      "|   |   |   |   |   |   |   |--- feature_9 >  10.45\n",
      "|   |   |   |   |   |   |   |   |--- class: 0\n",
      "|   |   |   |   |   |   |--- feature_8 >  8.58\n",
      "|   |   |   |   |   |   |   |--- feature_1 <= 0.50\n",
      "|   |   |   |   |   |   |   |   |--- feature_0 <= 96.50\n",
      "|   |   |   |   |   |   |   |   |   |--- feature_8 <= 12.00\n",
      "|   |   |   |   |   |   |   |   |   |   |--- class: 0\n",
      "|   |   |   |   |   |   |   |   |   |--- feature_8 >  12.00\n",
      "|   |   |   |   |   |   |   |   |   |   |--- class: 1\n",
      "|   |   |   |   |   |   |   |   |--- feature_0 >  96.50\n",
      "|   |   |   |   |   |   |   |   |   |--- class: 1\n",
      "|   |   |   |   |   |   |   |--- feature_1 >  0.50\n",
      "|   |   |   |   |   |   |   |   |--- class: 1\n",
      "|   |   |--- feature_3 >  1.04\n",
      "|   |   |   |--- feature_9 <= 16.70\n",
      "|   |   |   |   |--- feature_3 <= 3.86\n",
      "|   |   |   |   |   |--- class: 0\n",
      "|   |   |   |   |--- feature_3 >  3.86\n",
      "|   |   |   |   |   |--- feature_6 <= 107.50\n",
      "|   |   |   |   |   |   |--- class: 0\n",
      "|   |   |   |   |   |--- feature_6 >  107.50\n",
      "|   |   |   |   |   |   |--- class: 1\n",
      "|   |   |   |--- feature_9 >  16.70\n",
      "|   |   |   |   |--- class: 1\n",
      "|--- feature_4 >  3.50\n",
      "|   |--- feature_7 <= 45.95\n",
      "|   |   |--- feature_7 <= 42.80\n",
      "|   |   |   |--- class: 1\n",
      "|   |   |--- feature_7 >  42.80\n",
      "|   |   |   |--- feature_9 <= 10.70\n",
      "|   |   |   |   |--- class: 1\n",
      "|   |   |   |--- feature_9 >  10.70\n",
      "|   |   |   |   |--- feature_0 <= 99.50\n",
      "|   |   |   |   |   |--- class: 0\n",
      "|   |   |   |   |--- feature_0 >  99.50\n",
      "|   |   |   |   |   |--- feature_6 <= 82.00\n",
      "|   |   |   |   |   |   |--- class: 0\n",
      "|   |   |   |   |   |--- feature_6 >  82.00\n",
      "|   |   |   |   |   |   |--- class: 1\n",
      "|   |--- feature_7 >  45.95\n",
      "|   |   |--- feature_7 <= 58.70\n",
      "|   |   |   |--- feature_5 <= 161.25\n",
      "|   |   |   |   |--- feature_6 <= 92.50\n",
      "|   |   |   |   |   |--- class: 0\n",
      "|   |   |   |   |--- feature_6 >  92.50\n",
      "|   |   |   |   |   |--- class: 1\n",
      "|   |   |   |--- feature_5 >  161.25\n",
      "|   |   |   |   |--- feature_9 <= 5.65\n",
      "|   |   |   |   |   |--- class: 1\n",
      "|   |   |   |   |--- feature_9 >  5.65\n",
      "|   |   |   |   |   |--- class: 0\n",
      "|   |   |--- feature_7 >  58.70\n",
      "|   |   |   |--- feature_7 <= 76.55\n",
      "|   |   |   |   |--- feature_8 <= 13.39\n",
      "|   |   |   |   |   |--- feature_0 <= 136.00\n",
      "|   |   |   |   |   |   |--- feature_8 <= 10.14\n",
      "|   |   |   |   |   |   |   |--- class: 1\n",
      "|   |   |   |   |   |   |--- feature_8 >  10.14\n",
      "|   |   |   |   |   |   |   |--- feature_8 <= 10.41\n",
      "|   |   |   |   |   |   |   |   |--- class: 0\n",
      "|   |   |   |   |   |   |   |--- feature_8 >  10.41\n",
      "|   |   |   |   |   |   |   |   |--- feature_7 <= 60.95\n",
      "|   |   |   |   |   |   |   |   |   |--- class: 0\n",
      "|   |   |   |   |   |   |   |   |--- feature_7 >  60.95\n",
      "|   |   |   |   |   |   |   |   |   |--- feature_6 <= 89.50\n",
      "|   |   |   |   |   |   |   |   |   |   |--- feature_6 <= 88.50\n",
      "|   |   |   |   |   |   |   |   |   |   |   |--- class: 1\n",
      "|   |   |   |   |   |   |   |   |   |   |--- feature_6 >  88.50\n",
      "|   |   |   |   |   |   |   |   |   |   |   |--- class: 0\n",
      "|   |   |   |   |   |   |   |   |   |--- feature_6 >  89.50\n",
      "|   |   |   |   |   |   |   |   |   |   |--- class: 1\n",
      "|   |   |   |   |   |--- feature_0 >  136.00\n",
      "|   |   |   |   |   |   |--- feature_6 <= 116.00\n",
      "|   |   |   |   |   |   |   |--- class: 0\n",
      "|   |   |   |   |   |   |--- feature_6 >  116.00\n",
      "|   |   |   |   |   |   |   |--- class: 1\n",
      "|   |   |   |   |--- feature_8 >  13.39\n",
      "|   |   |   |   |   |--- class: 0\n",
      "|   |   |   |--- feature_7 >  76.55\n",
      "|   |   |   |   |--- feature_0 <= 128.50\n",
      "|   |   |   |   |   |--- class: 0\n",
      "|   |   |   |   |--- feature_0 >  128.50\n",
      "|   |   |   |   |   |--- feature_4 <= 4.50\n",
      "|   |   |   |   |   |   |--- class: 1\n",
      "|   |   |   |   |   |--- feature_4 >  4.50\n",
      "|   |   |   |   |   |   |--- feature_8 <= 12.04\n",
      "|   |   |   |   |   |   |   |--- class: 0\n",
      "|   |   |   |   |   |   |--- feature_8 >  12.04\n",
      "|   |   |   |   |   |   |   |--- class: 1\n",
      "\n"
     ]
    }
   ],
   "source": [
    "text_representation = tree.export_text(dtree)\n",
    "print(text_representation)"
   ]
  },
  {
   "cell_type": "code",
   "execution_count": null,
   "id": "80f106c8",
   "metadata": {},
   "outputs": [],
   "source": []
  },
  {
   "cell_type": "code",
   "execution_count": 42,
   "id": "8f5b70b5",
   "metadata": {},
   "outputs": [],
   "source": [
    "# Random Forest"
   ]
  },
  {
   "cell_type": "code",
   "execution_count": 43,
   "id": "c421df6e",
   "metadata": {},
   "outputs": [
    {
     "data": {
      "text/plain": [
       "RandomForestClassifier(max_depth=5, n_jobs=-1, oob_score=True, random_state=42)"
      ]
     },
     "execution_count": 43,
     "metadata": {},
     "output_type": "execute_result"
    }
   ],
   "source": [
    "from sklearn.ensemble import RandomForestClassifier\n",
    "\n",
    "classifier_rf = RandomForestClassifier(random_state=42, n_jobs=-1, max_depth=5,\n",
    "                                       n_estimators=100, oob_score=True)\n",
    "\n",
    "classifier_rf.fit(X_train, y_train)"
   ]
  },
  {
   "cell_type": "code",
   "execution_count": 44,
   "id": "6d4eb22d",
   "metadata": {},
   "outputs": [],
   "source": [
    "# Hyperparameter Tuning"
   ]
  },
  {
   "cell_type": "code",
   "execution_count": 45,
   "id": "0acaed56",
   "metadata": {},
   "outputs": [],
   "source": [
    "rf = RandomForestClassifier(random_state=42, n_jobs=-1)"
   ]
  },
  {
   "cell_type": "code",
   "execution_count": 46,
   "id": "78541ea3",
   "metadata": {},
   "outputs": [],
   "source": [
    "params = {\n",
    "    'max_depth': [2,3,5,10,20],\n",
    "    'min_samples_leaf': [5,10,20,50,100,200],\n",
    "    'n_estimators': [10,25,30,50,100,200]\n",
    "}"
   ]
  },
  {
   "cell_type": "code",
   "execution_count": 47,
   "id": "4884488e",
   "metadata": {},
   "outputs": [
    {
     "name": "stdout",
     "output_type": "stream",
     "text": [
      "Fitting 4 folds for each of 180 candidates, totalling 720 fits\n"
     ]
    },
    {
     "data": {
      "text/plain": [
       "GridSearchCV(cv=4, estimator=RandomForestClassifier(n_jobs=-1, random_state=42),\n",
       "             n_jobs=-1,\n",
       "             param_grid={'max_depth': [2, 3, 5, 10, 20],\n",
       "                         'min_samples_leaf': [5, 10, 20, 50, 100, 200],\n",
       "                         'n_estimators': [10, 25, 30, 50, 100, 200]},\n",
       "             scoring='accuracy', verbose=1)"
      ]
     },
     "execution_count": 47,
     "metadata": {},
     "output_type": "execute_result"
    }
   ],
   "source": [
    "from sklearn.model_selection import GridSearchCV\n",
    "\n",
    "# Instantiate the grid search model\n",
    "grid_search = GridSearchCV(estimator=rf,\n",
    "                           param_grid=params,\n",
    "                           cv = 4,\n",
    "                           n_jobs=-1, verbose=1, scoring=\"accuracy\")\n",
    "\n",
    "grid_search.fit(X_train, y_train)"
   ]
  },
  {
   "cell_type": "code",
   "execution_count": 48,
   "id": "67f8aab9",
   "metadata": {},
   "outputs": [
    {
     "data": {
      "text/plain": [
       "0.9339709418837676"
      ]
     },
     "execution_count": 48,
     "metadata": {},
     "output_type": "execute_result"
    }
   ],
   "source": [
    "grid_search.best_score_"
   ]
  },
  {
   "cell_type": "code",
   "execution_count": 49,
   "id": "ad6c9d1f",
   "metadata": {},
   "outputs": [
    {
     "data": {
      "text/plain": [
       "RandomForestClassifier(max_depth=20, min_samples_leaf=5, n_jobs=-1,\n",
       "                       random_state=42)"
      ]
     },
     "execution_count": 49,
     "metadata": {},
     "output_type": "execute_result"
    }
   ],
   "source": [
    "rf_best = grid_search.best_estimator_\n",
    "rf_best.fit(X_train, y_train)"
   ]
  },
  {
   "cell_type": "code",
   "execution_count": 50,
   "id": "b1bb7382",
   "metadata": {},
   "outputs": [],
   "source": [
    "# Evaluation"
   ]
  },
  {
   "cell_type": "code",
   "execution_count": 51,
   "id": "349e8f9f",
   "metadata": {},
   "outputs": [],
   "source": [
    "y_lr = lr.predict(X_test)\n",
    "y_dtree = dtree.predict(X_test)\n",
    "y_rf = rf_best.predict(X_test)"
   ]
  },
  {
   "cell_type": "code",
   "execution_count": 52,
   "id": "dd084c96",
   "metadata": {},
   "outputs": [
    {
     "name": "stdout",
     "output_type": "stream",
     "text": [
      "0.8440779610194903\n",
      "0.863568215892054\n",
      "0.9332833583208395\n"
     ]
    }
   ],
   "source": [
    "from sklearn.metrics import accuracy_score\n",
    "print(accuracy_score(y_test, y_lr))\n",
    "print(accuracy_score(y_test, y_dtree))\n",
    "print(accuracy_score(y_test, y_rf))"
   ]
  },
  {
   "cell_type": "markdown",
   "id": "adf6a51f",
   "metadata": {},
   "source": [
    "Accuracy paling bagus Random forest"
   ]
  },
  {
   "cell_type": "code",
   "execution_count": 53,
   "id": "4476337a",
   "metadata": {
    "scrolled": true
   },
   "outputs": [
    {
     "name": "stdout",
     "output_type": "stream",
     "text": [
      "0.6464896385094322\n",
      "0.7312362311472631\n",
      "0.9080740117746005\n"
     ]
    }
   ],
   "source": [
    "from sklearn.metrics import precision_score\n",
    "print(precision_score(y_test, y_lr, average='macro'))\n",
    "print(precision_score(y_test, y_dtree, average='macro'))\n",
    "print(precision_score(y_test, y_rf, average='macro'))"
   ]
  },
  {
   "cell_type": "markdown",
   "id": "e3a14c36",
   "metadata": {},
   "source": [
    "precesion paling bagus Random Forest"
   ]
  },
  {
   "cell_type": "code",
   "execution_count": 54,
   "id": "7343eb6c",
   "metadata": {},
   "outputs": [
    {
     "name": "stdout",
     "output_type": "stream",
     "text": [
      "0.5560668302745767\n",
      "0.7426598733817044\n",
      "0.8127845354958031\n"
     ]
    }
   ],
   "source": [
    "from sklearn.metrics import recall_score\n",
    "print(recall_score(y_test, y_lr, average='macro'))\n",
    "print(recall_score(y_test, y_dtree, average='macro'))\n",
    "print(recall_score(y_test, y_rf, average='macro'))"
   ]
  },
  {
   "cell_type": "code",
   "execution_count": 55,
   "id": "3b50e630",
   "metadata": {},
   "outputs": [
    {
     "name": "stdout",
     "output_type": "stream",
     "text": [
      "[[1097   39]\n",
      " [ 169   29]]\n",
      "[[1039   97]\n",
      " [  85  113]]\n",
      "[[1118   18]\n",
      " [  71  127]]\n"
     ]
    }
   ],
   "source": [
    "from sklearn.metrics import confusion_matrix\n",
    "print(confusion_matrix(y_test, y_lr))\n",
    "print(confusion_matrix(y_test, y_dtree))\n",
    "print(confusion_matrix(y_test, y_rf))"
   ]
  },
  {
   "cell_type": "code",
   "execution_count": null,
   "id": "2d8f4945",
   "metadata": {
    "scrolled": true
   },
   "outputs": [],
   "source": [
    "from sklearn.metrics import roc_curve, auc\n",
    "fpr, tpr, thresholds = roc_curve(y_test, y_lr, pos_label=1) # pos_label: positive label\n",
    "print(auc(fpr, tpr))\n",
    "fpr, tpr, thresholds = roc_curve(y_test, y_dtree, pos_label=1) # pos_label: positive label\n",
    "print(auc(fpr, tpr))\n",
    "fpr, tpr, thresholds = roc_curve(y_test, y_rf, pos_label=1) # pos_label: positive label\n",
    "print(auc(fpr, tpr))"
   ]
  },
  {
   "cell_type": "markdown",
   "id": "73204aba",
   "metadata": {},
   "source": [
    "model performance paling bagus Random Forest"
   ]
  },
  {
   "cell_type": "code",
   "execution_count": 52,
   "id": "6262521f",
   "metadata": {},
   "outputs": [
    {
     "name": "stdout",
     "output_type": "stream",
     "text": [
      "              precision    recall  f1-score   support\n",
      "\n",
      "           0       0.87      0.97      0.91      1136\n",
      "           1       0.43      0.15      0.22       198\n",
      "\n",
      "    accuracy                           0.84      1334\n",
      "   macro avg       0.65      0.56      0.57      1334\n",
      "weighted avg       0.80      0.84      0.81      1334\n",
      "\n",
      "              precision    recall  f1-score   support\n",
      "\n",
      "           0       0.92      0.91      0.92      1136\n",
      "           1       0.53      0.57      0.55       198\n",
      "\n",
      "    accuracy                           0.86      1334\n",
      "   macro avg       0.73      0.74      0.73      1334\n",
      "weighted avg       0.87      0.86      0.86      1334\n",
      "\n",
      "              precision    recall  f1-score   support\n",
      "\n",
      "           0       0.94      0.98      0.96      1136\n",
      "           1       0.88      0.64      0.74       198\n",
      "\n",
      "    accuracy                           0.93      1334\n",
      "   macro avg       0.91      0.81      0.85      1334\n",
      "weighted avg       0.93      0.93      0.93      1334\n",
      "\n"
     ]
    }
   ],
   "source": [
    "from sklearn.metrics import classification_report\n",
    "print(classification_report(y_test, y_lr))\n",
    "print(classification_report(y_test, y_dtree))\n",
    "print(classification_report(y_test, y_rf))"
   ]
  },
  {
   "cell_type": "code",
   "execution_count": null,
   "id": "a9e1493c",
   "metadata": {},
   "outputs": [],
   "source": []
  },
  {
   "cell_type": "markdown",
   "id": "77937e60",
   "metadata": {},
   "source": [
    "##### Conculsion\n",
    "Random Forest lebih bagus"
   ]
  }
 ],
 "metadata": {
  "kernelspec": {
   "display_name": "Python 3 (ipykernel)",
   "language": "python",
   "name": "python3"
  },
  "language_info": {
   "codemirror_mode": {
    "name": "ipython",
    "version": 3
   },
   "file_extension": ".py",
   "mimetype": "text/x-python",
   "name": "python",
   "nbconvert_exporter": "python",
   "pygments_lexer": "ipython3",
   "version": "3.9.12"
  }
 },
 "nbformat": 4,
 "nbformat_minor": 5
}
